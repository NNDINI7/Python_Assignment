{
  "nbformat": 4,
  "nbformat_minor": 0,
  "metadata": {
    "colab": {
      "provenance": []
    },
    "kernelspec": {
      "name": "python3",
      "display_name": "Python 3"
    },
    "language_info": {
      "name": "python"
    }
  },
  "cells": [
    {
      "cell_type": "markdown",
      "source": [
        "TXT FILE HANDLING"
      ],
      "metadata": {
        "id": "Qy77MM3bekIq"
      }
    },
    {
      "cell_type": "code",
      "execution_count": null,
      "metadata": {
        "id": "kjLDp9Dmdt7o"
      },
      "outputs": [],
      "source": [
        "#Write into a file\n",
        "\n",
        "# Open a file in write mode ('w') and write a string to it\n",
        "with open(\"sample.txt\", \"w\") as file:\n",
        "    file.write(\"Hello, this is a text file.\\n\")\n",
        "    file.write(\"Welcome to Python file handling!\\n\")\n"
      ]
    },
    {
      "cell_type": "code",
      "source": [
        "#Read from the file\n",
        "\n",
        "# Open a file in read mode ('r') and print its contents\n",
        "with open(\"sample.txt\", \"r\") as file:\n",
        "    content = file.read()\n",
        "    print(\"Contents of sample.txt:\")\n",
        "    print(content)"
      ],
      "metadata": {
        "id": "KMr4fOaXeInp"
      },
      "execution_count": null,
      "outputs": []
    },
    {
      "cell_type": "markdown",
      "source": [
        "CSV FILE HANDLING"
      ],
      "metadata": {
        "id": "IS8YpbASeh_y"
      }
    },
    {
      "cell_type": "code",
      "source": [
        "\n",
        "\n",
        "import csv\n",
        "\n",
        "# Writing a list of rows to a CSV file\n",
        "with open(\"data.csv\", \"w\", newline='') as csvfile:\n",
        "    writer = csv.writer(csvfile)\n",
        "    writer.writerow([\"Name\", \"Age\", \"City\"])\n",
        "    writer.writerow([\"Alice\", 25, \"New York\"])\n",
        "    writer.writerow([\"Bob\", 30, \"London\"])"
      ],
      "metadata": {
        "id": "8NycHBdbeQsN"
      },
      "execution_count": null,
      "outputs": []
    },
    {
      "cell_type": "code",
      "source": [
        "\n",
        "\n",
        "import csv\n",
        "\n",
        "# Reading from a CSV file\n",
        "with open(\"data.csv\", \"r\") as csvfile:\n",
        "    reader = csv.reader(csvfile)\n",
        "    for row in reader:\n",
        "        print(\"Row:\", row)"
      ],
      "metadata": {
        "id": "UQniZBgseTSy"
      },
      "execution_count": null,
      "outputs": []
    },
    {
      "cell_type": "markdown",
      "source": [
        "JSON FILE HANDLING\n"
      ],
      "metadata": {
        "id": "J_Y3KkDtefRC"
      }
    },
    {
      "cell_type": "code",
      "source": [
        "import json\n",
        "\n",
        "data = {\n",
        "    \"name\": \"Alice\",\n",
        "    \"age\": 25,\n",
        "    \"city\": \"New York\"\n",
        "}\n",
        "\n",
        "# Writing dictionary to JSON file\n",
        "with open(\"data.json\", \"w\") as jsonfile:\n",
        "    json.dump(data, jsonfile, indent=4)\n"
      ],
      "metadata": {
        "id": "in6ZfXm2eWW0"
      },
      "execution_count": null,
      "outputs": []
    },
    {
      "cell_type": "code",
      "source": [
        "\n",
        "\n",
        "import json\n",
        "\n",
        "# Reading from a JSON file\n",
        "with open(\"data.json\", \"r\") as jsonfile:\n",
        "    content = json.load(jsonfile)\n",
        "    print(\"JSON Data:\", content)\n"
      ],
      "metadata": {
        "id": "77wlsg1WeYC3"
      },
      "execution_count": null,
      "outputs": []
    },
    {
      "cell_type": "markdown",
      "source": [
        "XML FILE HANDLING"
      ],
      "metadata": {
        "id": "Joxgi-51ebzw"
      }
    },
    {
      "cell_type": "code",
      "source": [
        "\n",
        "import xml.etree.ElementTree as ET\n",
        "\n",
        "# Creating root element\n",
        "root = ET.Element(\"students\")\n",
        "\n",
        "# Adding a child\n",
        "student = ET.SubElement(root, \"student\")\n",
        "ET.SubElement(student, \"name\").text = \"Alice\"\n",
        "ET.SubElement(student, \"age\").text = \"25\"\n",
        "ET.SubElement(student, \"city\").text = \"New York\"\n",
        "\n",
        "# Create tree and write to file\n",
        "tree = ET.ElementTree(root)\n",
        "tree.write(\"students.xml\")"
      ],
      "metadata": {
        "id": "8C-LCSQ0eZjA"
      },
      "execution_count": null,
      "outputs": []
    },
    {
      "cell_type": "code",
      "source": [
        "\n",
        "\n",
        "import xml.etree.ElementTree as ET\n",
        "\n",
        "# Parse XML file\n",
        "tree = ET.parse(\"students.xml\")\n",
        "root = tree.getroot()\n",
        "\n",
        "# Iterate through XML data\n",
        "for student in root.findall('student'):\n",
        "    name = student.find('name').text\n",
        "    age = student.find('age').text\n",
        "    city = student.find('city').text\n",
        "    print(f\"Student: {name}, Age: {age}, City: {city}\")"
      ],
      "metadata": {
        "id": "Se_SiXFAebFr"
      },
      "execution_count": null,
      "outputs": []
    }
  ]
}