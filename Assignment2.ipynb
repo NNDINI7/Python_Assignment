{
  "nbformat": 4,
  "nbformat_minor": 0,
  "metadata": {
    "colab": {
      "provenance": []
    },
    "kernelspec": {
      "name": "python3",
      "display_name": "Python 3"
    },
    "language_info": {
      "name": "python"
    }
  },
  "cells": [
    {
      "cell_type": "code",
      "execution_count": null,
      "metadata": {
        "id": "B-z25eLoj8UH"
      },
      "outputs": [],
      "source": []
    },
    {
      "cell_type": "markdown",
      "metadata": {
        "id": "83e2a7ed"
      },
      "source": [
        "# Task\n",
        "Write a single Python program that demonstrates the basics of variables, data types, lists, tuples, sets, dictionaries, indexing, slicing, input/output, and exception handling."
      ]
    },
    {
      "cell_type": "markdown",
      "metadata": {
        "id": "629a19e6"
      },
      "source": [
        "## Variables and data types\n",
        "\n",
        "### Subtask:\n",
        "Define variables with different data types (integers, floats, strings, booleans) and demonstrate how to check their types.\n"
      ]
    },
    {
      "cell_type": "markdown",
      "metadata": {
        "id": "cb5044ad"
      },
      "source": [
        "**Reasoning**:\n",
        "The subtask requires defining variables of different data types and checking their types. This can be done in a single code block.\n",
        "\n"
      ]
    },
    {
      "cell_type": "code",
      "metadata": {
        "colab": {
          "base_uri": "https://localhost:8080/"
        },
        "id": "7515174a",
        "outputId": "fea36ed5-bbc8-436d-d4b8-e3f20df64012"
      },
      "source": [
        "# Define variables with different data types\n",
        "my_integer = 10\n",
        "my_float = 3.14\n",
        "my_string = \"Hello, world!\"\n",
        "my_boolean = True\n",
        "\n",
        "# Check and print the data types\n",
        "print(f\"Data type of my_integer: {type(my_integer)}\")\n",
        "print(f\"Data type of my_float: {type(my_float)}\")\n",
        "print(f\"Data type of my_string: {type(my_string)}\")\n",
        "print(f\"Data type of my_boolean: {type(my_boolean)}\")"
      ],
      "execution_count": 2,
      "outputs": [
        {
          "output_type": "stream",
          "name": "stdout",
          "text": [
            "Data type of my_integer: <class 'int'>\n",
            "Data type of my_float: <class 'float'>\n",
            "Data type of my_string: <class 'str'>\n",
            "Data type of my_boolean: <class 'bool'>\n"
          ]
        }
      ]
    },
    {
      "cell_type": "code",
      "source": [],
      "metadata": {
        "id": "ZoBbMVP4kkWF"
      },
      "execution_count": null,
      "outputs": []
    },
    {
      "cell_type": "markdown",
      "metadata": {
        "id": "02f480a3"
      },
      "source": [
        "## Lists\n",
        "\n",
        "### Subtask:\n",
        "Create and manipulate lists, including appending, inserting, removing elements, and accessing elements by index.\n"
      ]
    },
    {
      "cell_type": "markdown",
      "metadata": {
        "id": "21ad1c80"
      },
      "source": [
        "**Reasoning**:\n",
        "Create and manipulate a list as per the instructions.\n",
        "\n"
      ]
    },
    {
      "cell_type": "code",
      "metadata": {
        "colab": {
          "base_uri": "https://localhost:8080/"
        },
        "id": "376c9a89",
        "outputId": "8fc295b6-0093-4bbd-d7f8-e6571ad0472f"
      },
      "source": [
        "# 1. Create a list\n",
        "my_list = [1, \"apple\", 3.14, True, 5]\n",
        "print(\"Original list:\", my_list)\n",
        "\n",
        "# 2. Append an element\n",
        "my_list.append(\"banana\")\n",
        "print(\"After appending 'banana':\", my_list)\n",
        "\n",
        "# 3. Insert an element\n",
        "my_list.insert(2, \"orange\")\n",
        "print(\"After inserting 'orange' at index 2:\", my_list)\n",
        "\n",
        "# 4. Remove an element by value\n",
        "my_list.remove(3.14)\n",
        "print(\"After removing 3.14:\", my_list)\n",
        "\n",
        "# 5. Access elements by index\n",
        "print(\"Element at index 0:\", my_list[0])\n",
        "print(\"Element at index -1 (last element):\", my_list[-1])"
      ],
      "execution_count": 4,
      "outputs": [
        {
          "output_type": "stream",
          "name": "stdout",
          "text": [
            "Original list: [1, 'apple', 3.14, True, 5]\n",
            "After appending 'banana': [1, 'apple', 3.14, True, 5, 'banana']\n",
            "After inserting 'orange' at index 2: [1, 'apple', 'orange', 3.14, True, 5, 'banana']\n",
            "After removing 3.14: [1, 'apple', 'orange', True, 5, 'banana']\n",
            "Element at index 0: 1\n",
            "Element at index -1 (last element): banana\n"
          ]
        }
      ]
    },
    {
      "cell_type": "code",
      "source": [],
      "metadata": {
        "id": "ky456a4nkyDK"
      },
      "execution_count": null,
      "outputs": []
    },
    {
      "cell_type": "markdown",
      "metadata": {
        "id": "587bc6ef"
      },
      "source": [
        "## Tuples\n",
        "\n",
        "### Subtask:\n",
        "Create tuples and demonstrate accessing elements. Explain that tuples are immutable.\n"
      ]
    },
    {
      "cell_type": "markdown",
      "metadata": {
        "id": "3eac3404"
      },
      "source": [
        "**Reasoning**:\n",
        "Create a tuple, print it, access elements using positive and negative indexing, and demonstrate its immutability with a comment.\n",
        "\n"
      ]
    },
    {
      "cell_type": "code",
      "metadata": {
        "colab": {
          "base_uri": "https://localhost:8080/"
        },
        "id": "64760813",
        "outputId": "9253ee42-bbc1-44ef-9838-8b2f117e0682"
      },
      "source": [
        "# 1. Create a tuple with a few different data types.\n",
        "my_tuple = (10, \"hello\", 3.14, False)\n",
        "\n",
        "# 2. Print the tuple to display its contents.\n",
        "print(\"Original tuple:\", my_tuple)\n",
        "\n",
        "# 3. Access and print an element from the tuple using its index.\n",
        "print(\"Element at index 1:\", my_tuple[1])\n",
        "\n",
        "# 4. Access and print another element from the tuple using a negative index.\n",
        "print(\"Element at index -2:\", my_tuple[-2])\n",
        "\n",
        "# 5. Attempt to modify an element in the tuple (e.g., by assignment) to demonstrate its immutability.\n",
        "# The following line will raise a TypeError because tuples are immutable.\n",
        "# my_tuple[0] = 20\n",
        "\n",
        "# 6. Print a statement explaining that tuples are immutable and cannot be changed after creation.\n",
        "print(\"Tuples are immutable and cannot be changed after creation.\")"
      ],
      "execution_count": 5,
      "outputs": [
        {
          "output_type": "stream",
          "name": "stdout",
          "text": [
            "Original tuple: (10, 'hello', 3.14, False)\n",
            "Element at index 1: hello\n",
            "Element at index -2: 3.14\n",
            "Tuples are immutable and cannot be changed after creation.\n"
          ]
        }
      ]
    },
    {
      "cell_type": "markdown",
      "metadata": {
        "id": "cab07cbf"
      },
      "source": [
        "## Sets\n",
        "\n",
        "### Subtask:\n",
        "Create sets and demonstrate set operations like adding and removing elements, and set operations (union, intersection, difference).\n"
      ]
    },
    {
      "cell_type": "markdown",
      "metadata": {
        "id": "637b64f0"
      },
      "source": [
        "**Reasoning**:\n",
        "The subtask requires creating sets, demonstrating set operations, and printing the results at various stages. This can be accomplished in a single Python code block.\n",
        "\n"
      ]
    },
    {
      "cell_type": "code",
      "metadata": {
        "colab": {
          "base_uri": "https://localhost:8080/"
        },
        "id": "2c61d6fd",
        "outputId": "64ca2eed-c160-476b-8e2d-cc4df69f54a5"
      },
      "source": [
        "# 1. Create two sets with some overlapping and some unique elements.\n",
        "set1 = {1, 2, 3, 4, 5}\n",
        "set2 = {4, 5, 6, 7, 8}\n",
        "\n",
        "# 2. Print both sets to show their initial contents.\n",
        "print(\"Initial Set 1:\", set1)\n",
        "print(\"Initial Set 2:\", set2)\n",
        "\n",
        "# 3. Add a new element to one of the sets using the add() method.\n",
        "set1.add(9)\n",
        "\n",
        "# 4. Remove an element from one of the sets using the remove() method.\n",
        "set2.remove(8)\n",
        "\n",
        "# 5. Print the sets after adding and removing elements.\n",
        "print(\"Set 1 after adding 9:\", set1)\n",
        "print(\"Set 2 after removing 8:\", set2)\n",
        "\n",
        "# 6. Demonstrate the union of the two sets and print the result.\n",
        "union_set = set1.union(set2)\n",
        "print(\"Union of Set 1 and Set 2:\", union_set)\n",
        "\n",
        "# 7. Demonstrate the intersection of the two sets and print the result.\n",
        "intersection_set = set1.intersection(set2)\n",
        "print(\"Intersection of Set 1 and Set 2:\", intersection_set)\n",
        "\n",
        "# 8. Demonstrate the difference between the two sets (set1 - set2 and set2 - set1) and print the results.\n",
        "difference_set1 = set1.difference(set2)\n",
        "difference_set2 = set2.difference(set1)\n",
        "print(\"Difference (Set 1 - Set 2):\", difference_set1)\n",
        "print(\"Difference (Set 2 - Set 1):\", difference_set2)"
      ],
      "execution_count": 6,
      "outputs": [
        {
          "output_type": "stream",
          "name": "stdout",
          "text": [
            "Initial Set 1: {1, 2, 3, 4, 5}\n",
            "Initial Set 2: {4, 5, 6, 7, 8}\n",
            "Set 1 after adding 9: {1, 2, 3, 4, 5, 9}\n",
            "Set 2 after removing 8: {4, 5, 6, 7}\n",
            "Union of Set 1 and Set 2: {1, 2, 3, 4, 5, 6, 7, 9}\n",
            "Intersection of Set 1 and Set 2: {4, 5}\n",
            "Difference (Set 1 - Set 2): {1, 2, 3, 9}\n",
            "Difference (Set 2 - Set 1): {6, 7}\n"
          ]
        }
      ]
    },
    {
      "cell_type": "markdown",
      "metadata": {
        "id": "d620d2dc"
      },
      "source": [
        "## Dictionaries\n",
        "\n",
        "### Subtask:\n",
        "Create dictionaries and demonstrate adding, accessing, and modifying key-value pairs.\n"
      ]
    },
    {
      "cell_type": "markdown",
      "metadata": {
        "id": "7c840505"
      },
      "source": [
        "**Reasoning**:\n",
        "The subtask is to create dictionaries and demonstrate adding, accessing, and modifying key-value pairs. The instructions require creating a dictionary, printing it, accessing a value, adding a new pair, modifying a value, and printing the dictionary again. This can be done in a single code block.\n",
        "\n"
      ]
    },
    {
      "cell_type": "code",
      "metadata": {
        "colab": {
          "base_uri": "https://localhost:8080/"
        },
        "id": "c55fea42",
        "outputId": "251bc4a5-117a-4fe6-c164-dc93d119137e"
      },
      "source": [
        "# 1. Create a dictionary\n",
        "my_dict = {\n",
        "    \"name\": \"Alice\",\n",
        "    \"age\": 30,\n",
        "    \"is_student\": False,\n",
        "    \"courses\": [\"Math\", \"Science\"]\n",
        "}\n",
        "\n",
        "# 2. Print the entire dictionary\n",
        "print(\"Initial dictionary:\", my_dict)\n",
        "\n",
        "# 3. Access and print the value associated with a specific key\n",
        "print(\"Age:\", my_dict[\"age\"])\n",
        "\n",
        "# 4. Add a new key-value pair\n",
        "my_dict[\"city\"] = \"New York\"\n",
        "\n",
        "# 5. Modify the value associated with an existing key\n",
        "my_dict[\"age\"] = 31\n",
        "\n",
        "# 6. Print the dictionary again to show the changes\n",
        "print(\"Dictionary after adding and modifying:\", my_dict)"
      ],
      "execution_count": 7,
      "outputs": [
        {
          "output_type": "stream",
          "name": "stdout",
          "text": [
            "Initial dictionary: {'name': 'Alice', 'age': 30, 'is_student': False, 'courses': ['Math', 'Science']}\n",
            "Age: 30\n",
            "Dictionary after adding and modifying: {'name': 'Alice', 'age': 31, 'is_student': False, 'courses': ['Math', 'Science'], 'city': 'New York'}\n"
          ]
        }
      ]
    },
    {
      "cell_type": "markdown",
      "metadata": {
        "id": "70141c9d"
      },
      "source": [
        "## Indexing and slicing\n",
        "\n",
        "### Subtask:\n",
        "Demonstrate indexing and slicing on sequences (strings, lists, tuples).\n"
      ]
    },
    {
      "cell_type": "markdown",
      "metadata": {
        "id": "2bbef948"
      },
      "source": [
        "**Reasoning**:\n",
        "The subtask requires demonstrating indexing and slicing on strings, lists, and tuples. I will create a sample string and list, and use the existing `my_tuple`. Then, I will perform indexing and slicing operations on all three sequence types and print the results with clear labels.\n",
        "\n"
      ]
    },
    {
      "cell_type": "code",
      "metadata": {
        "colab": {
          "base_uri": "https://localhost:8080/"
        },
        "id": "c491112b",
        "outputId": "5f8a04bd-9355-4669-faf5-f6919f20bf51"
      },
      "source": [
        "# 1. Create a sample string and a sample list\n",
        "sample_string = \"Python Programming\"\n",
        "sample_list = [10, 20, 30, 40, 50, 60, 70]\n",
        "\n",
        "# Use the existing my_tuple variable from the kernel\n",
        "# print(my_tuple) # Uncomment to verify the content of my_tuple\n",
        "\n",
        "print(\"Original String:\", sample_string)\n",
        "print(\"Original List:\", sample_list)\n",
        "print(\"Original Tuple:\", my_tuple)\n",
        "print(\"-\" * 30)\n",
        "\n",
        "# 2. Demonstrate accessing individual elements using positive and negative indexing\n",
        "\n",
        "# String indexing\n",
        "print(\"String Indexing:\")\n",
        "print(\"Element at index 0:\", sample_string[0])\n",
        "print(\"Element at index 7:\", sample_string[7])\n",
        "print(\"Element at index -1:\", sample_string[-1])\n",
        "print(\"Element at index -10:\", sample_string[-10])\n",
        "print(\"-\" * 30)\n",
        "\n",
        "# List indexing\n",
        "print(\"List Indexing:\")\n",
        "print(\"Element at index 0:\", sample_list[0])\n",
        "print(\"Element at index 3:\", sample_list[3])\n",
        "print(\"Element at index -1:\", sample_list[-1])\n",
        "print(\"Element at index -5:\", sample_list[-5])\n",
        "print(\"-\" * 30)\n",
        "\n",
        "# Tuple indexing\n",
        "print(\"Tuple Indexing:\")\n",
        "print(\"Element at index 0:\", my_tuple[0])\n",
        "print(\"Element at index 2:\", my_tuple[2])\n",
        "print(\"Element at index -1:\", my_tuple[-1])\n",
        "print(\"Element at index -3:\", my_tuple[-3])\n",
        "print(\"-\" * 30)\n",
        "\n",
        "# 3. Demonstrate slicing to extract a portion of each sequence\n",
        "\n",
        "# String slicing\n",
        "print(\"String Slicing:\")\n",
        "print(\"Slice from index 0 to 6:\", sample_string[0:6])\n",
        "print(\"Slice from index 7 to the end:\", sample_string[7:])\n",
        "print(\"Slice from the beginning to index 6:\", sample_string[:6])\n",
        "print(\"Slice with a step of 2:\", sample_string[::2])\n",
        "print(\"Slice using negative indices:\", sample_string[-10:-1])\n",
        "print(\"Reverse the string:\", sample_string[::-1])\n",
        "print(\"-\" * 30)\n",
        "\n",
        "# List slicing\n",
        "print(\"List Slicing:\")\n",
        "print(\"Slice from index 1 to 5:\", sample_list[1:6])\n",
        "print(\"Slice from index 3 to the end:\", sample_list[3:])\n",
        "print(\"Slice from the beginning to index 4:\", sample_list[:5])\n",
        "print(\"Slice with a step of 3:\", sample_list[::3])\n",
        "print(\"Slice using negative indices:\", sample_list[-4:-1])\n",
        "print(\"Reverse the list:\", sample_list[::-1])\n",
        "print(\"-\" * 30)\n",
        "\n",
        "# Tuple slicing\n",
        "print(\"Tuple Slicing:\")\n",
        "print(\"Slice from index 1 to 3:\", my_tuple[1:4])\n",
        "print(\"Slice from index 2 to the end:\", my_tuple[2:])\n",
        "print(\"Slice from the beginning to index 2:\", my_tuple[:3])\n",
        "print(\"Slice with a step of 2:\", my_tuple[::2])\n",
        "print(\"Slice using negative indices:\", my_tuple[-3:-1])\n",
        "print(\"Reverse the tuple:\", my_tuple[::-1])\n",
        "print(\"-\" * 30)"
      ],
      "execution_count": 8,
      "outputs": [
        {
          "output_type": "stream",
          "name": "stdout",
          "text": [
            "Original String: Python Programming\n",
            "Original List: [10, 20, 30, 40, 50, 60, 70]\n",
            "Original Tuple: (10, 'hello', 3.14, False)\n",
            "------------------------------\n",
            "String Indexing:\n",
            "Element at index 0: P\n",
            "Element at index 7: P\n",
            "Element at index -1: g\n",
            "Element at index -10: r\n",
            "------------------------------\n",
            "List Indexing:\n",
            "Element at index 0: 10\n",
            "Element at index 3: 40\n",
            "Element at index -1: 70\n",
            "Element at index -5: 30\n",
            "------------------------------\n",
            "Tuple Indexing:\n",
            "Element at index 0: 10\n",
            "Element at index 2: 3.14\n",
            "Element at index -1: False\n",
            "Element at index -3: hello\n",
            "------------------------------\n",
            "String Slicing:\n",
            "Slice from index 0 to 6: Python\n",
            "Slice from index 7 to the end: Programming\n",
            "Slice from the beginning to index 6: Python\n",
            "Slice with a step of 2: Pto rgamn\n",
            "Slice using negative indices: rogrammin\n",
            "Reverse the string: gnimmargorP nohtyP\n",
            "------------------------------\n",
            "List Slicing:\n",
            "Slice from index 1 to 5: [20, 30, 40, 50, 60]\n",
            "Slice from index 3 to the end: [40, 50, 60, 70]\n",
            "Slice from the beginning to index 4: [10, 20, 30, 40, 50]\n",
            "Slice with a step of 3: [10, 40, 70]\n",
            "Slice using negative indices: [40, 50, 60]\n",
            "Reverse the list: [70, 60, 50, 40, 30, 20, 10]\n",
            "------------------------------\n",
            "Tuple Slicing:\n",
            "Slice from index 1 to 3: ('hello', 3.14, False)\n",
            "Slice from index 2 to the end: (3.14, False)\n",
            "Slice from the beginning to index 2: (10, 'hello', 3.14)\n",
            "Slice with a step of 2: (10, 3.14)\n",
            "Slice using negative indices: ('hello', 3.14)\n",
            "Reverse the tuple: (False, 3.14, 'hello', 10)\n",
            "------------------------------\n"
          ]
        }
      ]
    },
    {
      "cell_type": "markdown",
      "metadata": {
        "id": "6b9ca874"
      },
      "source": [
        "## Input/output (i/o)\n",
        "\n",
        "### Subtask:\n",
        "Get input from the user and print output to the console.\n"
      ]
    },
    {
      "cell_type": "markdown",
      "metadata": {
        "id": "70438365"
      },
      "source": [
        "**Reasoning**:\n",
        "Get the user's name and age using `input()` and print a greeting using an f-string as requested by the instructions.\n",
        "\n"
      ]
    },
    {
      "cell_type": "code",
      "metadata": {
        "colab": {
          "base_uri": "https://localhost:8080/"
        },
        "id": "cf78fc73",
        "outputId": "5fc956b0-dcc1-4451-ff85-681a2d8d4c6a"
      },
      "source": [
        "# 1. Prompt the user to enter their name and store the input in a variable.\n",
        "name = input(\"Please enter your name: \")\n",
        "\n",
        "# 2. Prompt the user to enter their age and store the input in a variable.\n",
        "age_str = input(\"Please enter your age: \")\n",
        "\n",
        "# Although not strictly required by the instructions for this step,\n",
        "# converting age to an integer is good practice if numerical operations are planned later.\n",
        "# age = int(age_str)\n",
        "\n",
        "# 3. Print a greeting message to the console that includes the user's name and age using an f-string.\n",
        "print(f\"Hello, {name}! You are {age_str} years old.\")"
      ],
      "execution_count": 9,
      "outputs": [
        {
          "output_type": "stream",
          "name": "stdout",
          "text": [
            "Please enter your name: Nandini \n",
            "Please enter your age: 21\n",
            "Hello, Nandini ! You are 21 years old.\n"
          ]
        }
      ]
    },
    {
      "cell_type": "markdown",
      "metadata": {
        "id": "a4680188"
      },
      "source": [
        "## Exception handling\n",
        "\n",
        "### Subtask:\n",
        "Include a basic example of exception handling using `try`, `except`, and `finally` blocks.\n"
      ]
    },
    {
      "cell_type": "markdown",
      "metadata": {
        "id": "8ebec3d1"
      },
      "source": [
        "**Reasoning**:\n",
        "Implement a function with exception handling for a problematic operation and call it with different inputs to demonstrate the `try`, `except`, and `finally` blocks.\n",
        "\n"
      ]
    },
    {
      "cell_type": "code",
      "metadata": {
        "colab": {
          "base_uri": "https://localhost:8080/"
        },
        "id": "32bef5d4",
        "outputId": "46e0c708-15c8-45f7-a0d5-b5bf1a3883c0"
      },
      "source": [
        "def perform_division(numerator, denominator):\n",
        "    \"\"\"\n",
        "    Attempts to perform division and handles potential ZeroDivisionError.\n",
        "\n",
        "    Args:\n",
        "        numerator: The number to be divided.\n",
        "        denominator: The number to divide by.\n",
        "    \"\"\"\n",
        "    print(f\"\\nAttempting to divide {numerator} by {denominator}...\")\n",
        "    try:\n",
        "        result = numerator / denominator\n",
        "        print(f\"Division successful. Result: {result}\")\n",
        "    except ZeroDivisionError:\n",
        "        print(\"Error: Cannot divide by zero!\")\n",
        "    except TypeError:\n",
        "        print(\"Error: Invalid input types for division!\")\n",
        "    finally:\n",
        "        print(\"Division attempt finished.\")\n",
        "\n",
        "def convert_to_integer(value):\n",
        "    \"\"\"\n",
        "    Attempts to convert a value to an integer and handles potential ValueError.\n",
        "\n",
        "    Args:\n",
        "        value: The value to convert.\n",
        "    \"\"\"\n",
        "    print(f\"\\nAttempting to convert '{value}' to an integer...\")\n",
        "    try:\n",
        "        integer_value = int(value)\n",
        "        print(f\"Conversion successful. Integer value: {integer_value}\")\n",
        "    except ValueError:\n",
        "        print(f\"Error: Cannot convert '{value}' to an integer!\")\n",
        "    finally:\n",
        "        print(\"Integer conversion attempt finished.\")\n",
        "\n",
        "# Call the functions with inputs that will trigger exceptions\n",
        "perform_division(10, 0)\n",
        "convert_to_integer(\"hello\")\n",
        "\n",
        "# Call the functions with inputs that will not trigger exceptions\n",
        "perform_division(10, 2)\n",
        "convert_to_integer(\"123\")"
      ],
      "execution_count": 10,
      "outputs": [
        {
          "output_type": "stream",
          "name": "stdout",
          "text": [
            "\n",
            "Attempting to divide 10 by 0...\n",
            "Error: Cannot divide by zero!\n",
            "Division attempt finished.\n",
            "\n",
            "Attempting to convert 'hello' to an integer...\n",
            "Error: Cannot convert 'hello' to an integer!\n",
            "Integer conversion attempt finished.\n",
            "\n",
            "Attempting to divide 10 by 2...\n",
            "Division successful. Result: 5.0\n",
            "Division attempt finished.\n",
            "\n",
            "Attempting to convert '123' to an integer...\n",
            "Conversion successful. Integer value: 123\n",
            "Integer conversion attempt finished.\n"
          ]
        }
      ]
    },
    {
      "cell_type": "code",
      "metadata": {
        "colab": {
          "base_uri": "https://localhost:8080/"
        },
        "id": "1c8d2a8c",
        "outputId": "753ae1f5-f094-4123-ee9d-159b0871509a"
      },
      "source": [
        "# --- 1. Variables and Data Types ---\n",
        "# Define variables with different data types\n",
        "print(\"--- Variables and Data Types ---\")\n",
        "my_integer = 10 # An integer number\n",
        "my_float = 3.14 # A floating-point number\n",
        "my_string = \"Hello, world!\" # A sequence of characters\n",
        "my_boolean = True # A boolean value (True or False)\n",
        "\n",
        "# Check and print the data types\n",
        "print(f\"Data type of my_integer: {type(my_integer)}\")\n",
        "print(f\"Data type of my_float: {type(my_float)}\")\n",
        "print(f\"Data type of my_string: {type(my_string)}\")\n",
        "print(f\"Data type of my_boolean: {type(my_boolean)}\")\n",
        "print(\"-\" * 30)\n",
        "\n",
        "# --- 2. Lists ---\n",
        "# Lists are ordered, mutable collections of items.\n",
        "print(\"--- Lists ---\")\n",
        "my_list = [1, \"apple\", 3.14, True, 5]\n",
        "print(\"Original list:\", my_list)\n",
        "\n",
        "# Append an element to the end\n",
        "my_list.append(\"banana\")\n",
        "print(\"After appending 'banana':\", my_list)\n",
        "\n",
        "# Insert an element at a specific index\n",
        "my_list.insert(2, \"orange\")\n",
        "print(\"After inserting 'orange' at index 2:\", my_list)\n",
        "\n",
        "# Remove an element by value\n",
        "my_list.remove(3.14)\n",
        "print(\"After removing 3.14:\", my_list)\n",
        "\n",
        "# Access elements by index\n",
        "print(\"Element at index 0:\", my_list[0])\n",
        "print(\"Element at index -1 (last element):\", my_list[-1])\n",
        "print(\"-\" * 30)\n",
        "\n",
        "# --- 3. Tuples ---\n",
        "# Tuples are ordered, immutable collections of items.\n",
        "print(\"--- Tuples ---\")\n",
        "my_tuple = (10, \"hello\", 3.14, False)\n",
        "print(\"Original tuple:\", my_tuple)\n",
        "\n",
        "# Access elements by index\n",
        "print(\"Element at index 1:\", my_tuple[1])\n",
        "print(\"Element at index -2:\", my_tuple[-2])\n",
        "\n",
        "# Tuples are immutable - uncommenting the line below would cause an error\n",
        "# my_tuple[0] = 20\n",
        "print(\"Tuples are immutable and cannot be changed after creation.\")\n",
        "print(\"-\" * 30)\n",
        "\n",
        "# --- 4. Sets ---\n",
        "# Sets are unordered collections of unique items.\n",
        "print(\"--- Sets ---\")\n",
        "set1 = {1, 2, 3, 4, 5}\n",
        "set2 = {4, 5, 6, 7, 8}\n",
        "print(\"Initial Set 1:\", set1)\n",
        "print(\"Initial Set 2:\", set2)\n",
        "\n",
        "# Add an element\n",
        "set1.add(9)\n",
        "print(\"Set 1 after adding 9:\", set1)\n",
        "\n",
        "# Remove an element\n",
        "set2.remove(8)\n",
        "print(\"Set 2 after removing 8:\", set2)\n",
        "\n",
        "# Set operations\n",
        "print(\"Union of Set 1 and Set 2:\", set1.union(set2))\n",
        "print(\"Intersection of Set 1 and Set 2:\", set1.intersection(set2))\n",
        "print(\"Difference (Set 1 - Set 2):\", set1.difference(set2))\n",
        "print(\"-\" * 30)\n",
        "\n",
        "# --- 5. Dictionaries ---\n",
        "# Dictionaries are unordered collections of key-value pairs.\n",
        "print(\"--- Dictionaries ---\")\n",
        "my_dict = {\n",
        "    \"name\": \"Alice\",\n",
        "    \"age\": 31,\n",
        "    \"is_student\": False,\n",
        "    \"courses\": [\"Math\", \"Science\"],\n",
        "    \"city\": \"New York\"\n",
        "}\n",
        "print(\"Initial dictionary:\", my_dict)\n",
        "\n",
        "# Access values by key\n",
        "print(\"Name:\", my_dict[\"name\"])\n",
        "print(\"Courses:\", my_dict[\"courses\"])\n",
        "\n",
        "# Add a new key-value pair\n",
        "my_dict[\"zip_code\"] = \"10001\"\n",
        "print(\"Dictionary after adding zip_code:\", my_dict)\n",
        "\n",
        "# Modify a value\n",
        "my_dict[\"age\"] = 32\n",
        "print(\"Dictionary after modifying age:\", my_dict)\n",
        "print(\"-\" * 30)\n",
        "\n",
        "# --- 6. Indexing and Slicing ---\n",
        "# Demonstrating indexing and slicing on sequences (strings, lists, tuples)\n",
        "print(\"--- Indexing and Slicing ---\")\n",
        "sample_string = \"Python Programming\"\n",
        "sample_list = [10, 20, 30, 40, 50, 60, 70]\n",
        "# my_tuple is already defined above\n",
        "\n",
        "print(\"Original String:\", sample_string)\n",
        "print(\"Original List:\", sample_list)\n",
        "print(\"Original Tuple:\", my_tuple)\n",
        "print(\"-\" * 30)\n",
        "\n",
        "# Indexing\n",
        "print(\"Indexing Examples:\")\n",
        "print(\"String: First character:\", sample_string[0])\n",
        "print(\"List: Third element:\", sample_list[2])\n",
        "print(\"Tuple: Last element:\", my_tuple[-1])\n",
        "print(\"-\" * 30)\n",
        "\n",
        "# Slicing\n",
        "print(\"Slicing Examples:\")\n",
        "print(\"String: First 6 characters:\", sample_string[:6])\n",
        "print(\"List: Elements from index 2 to 5:\", sample_list[2:6])\n",
        "print(\"Tuple: Elements from index 1 onwards:\", my_tuple[1:])\n",
        "print(\"String: Every second character:\", sample_string[::2])\n",
        "print(\"List: Reverse the list:\", sample_list[::-1])\n",
        "print(\"-\" * 30)\n",
        "\n",
        "# --- 7. Input/Output (I/O) ---\n",
        "# Getting user input and printing output\n",
        "print(\"--- Input/Output (I/O) ---\")\n",
        "# Note: input() reads input as a string\n",
        "# user_name = input(\"Please enter your name: \")\n",
        "# user_age_str = input(\"Please enter your age: \")\n",
        "# print(f\"Hello, {user_name}! You entered age {user_age_str}.\")\n",
        "print(\"Input/Output demonstration is commented out to avoid blocking execution.\")\n",
        "print(\"-\" * 30)\n",
        "\n",
        "\n",
        "# --- 8. Exception Handling ---\n",
        "# Demonstrating try, except, and finally blocks\n",
        "print(\"--- Exception Handling ---\")\n",
        "\n",
        "def safe_division(numerator, denominator):\n",
        "    \"\"\"Attempts to perform division and handles potential ZeroDivisionError.\"\"\"\n",
        "    try:\n",
        "        # Attempt to perform the division\n",
        "        result = numerator / denominator\n",
        "        print(f\"Result of division: {result}\")\n",
        "    except ZeroDivisionError:\n",
        "        # Handle the specific error if division by zero occurs\n",
        "        print(\"Error: Cannot divide by zero!\")\n",
        "    except TypeError:\n",
        "         # Handle other potential errors like invalid types\n",
        "         print(\"Error: Invalid input types for division!\")\n",
        "    finally:\n",
        "        # This block always executes, regardless of whether an exception occurred\n",
        "        print(\"Division attempt concluded.\")\n",
        "\n",
        "# Example calls to demonstrate exception handling\n",
        "safe_division(10, 2) # No exception\n",
        "safe_division(10, 0) # ZeroDivisionError\n",
        "safe_division(10, \"a\") # TypeError\n",
        "print(\"-\" * 30)"
      ],
      "execution_count": 11,
      "outputs": [
        {
          "output_type": "stream",
          "name": "stdout",
          "text": [
            "--- Variables and Data Types ---\n",
            "Data type of my_integer: <class 'int'>\n",
            "Data type of my_float: <class 'float'>\n",
            "Data type of my_string: <class 'str'>\n",
            "Data type of my_boolean: <class 'bool'>\n",
            "------------------------------\n",
            "--- Lists ---\n",
            "Original list: [1, 'apple', 3.14, True, 5]\n",
            "After appending 'banana': [1, 'apple', 3.14, True, 5, 'banana']\n",
            "After inserting 'orange' at index 2: [1, 'apple', 'orange', 3.14, True, 5, 'banana']\n",
            "After removing 3.14: [1, 'apple', 'orange', True, 5, 'banana']\n",
            "Element at index 0: 1\n",
            "Element at index -1 (last element): banana\n",
            "------------------------------\n",
            "--- Tuples ---\n",
            "Original tuple: (10, 'hello', 3.14, False)\n",
            "Element at index 1: hello\n",
            "Element at index -2: 3.14\n",
            "Tuples are immutable and cannot be changed after creation.\n",
            "------------------------------\n",
            "--- Sets ---\n",
            "Initial Set 1: {1, 2, 3, 4, 5}\n",
            "Initial Set 2: {4, 5, 6, 7, 8}\n",
            "Set 1 after adding 9: {1, 2, 3, 4, 5, 9}\n",
            "Set 2 after removing 8: {4, 5, 6, 7}\n",
            "Union of Set 1 and Set 2: {1, 2, 3, 4, 5, 6, 7, 9}\n",
            "Intersection of Set 1 and Set 2: {4, 5}\n",
            "Difference (Set 1 - Set 2): {1, 2, 3, 9}\n",
            "------------------------------\n",
            "--- Dictionaries ---\n",
            "Initial dictionary: {'name': 'Alice', 'age': 31, 'is_student': False, 'courses': ['Math', 'Science'], 'city': 'New York'}\n",
            "Name: Alice\n",
            "Courses: ['Math', 'Science']\n",
            "Dictionary after adding zip_code: {'name': 'Alice', 'age': 31, 'is_student': False, 'courses': ['Math', 'Science'], 'city': 'New York', 'zip_code': '10001'}\n",
            "Dictionary after modifying age: {'name': 'Alice', 'age': 32, 'is_student': False, 'courses': ['Math', 'Science'], 'city': 'New York', 'zip_code': '10001'}\n",
            "------------------------------\n",
            "--- Indexing and Slicing ---\n",
            "Original String: Python Programming\n",
            "Original List: [10, 20, 30, 40, 50, 60, 70]\n",
            "Original Tuple: (10, 'hello', 3.14, False)\n",
            "------------------------------\n",
            "Indexing Examples:\n",
            "String: First character: P\n",
            "List: Third element: 30\n",
            "Tuple: Last element: False\n",
            "------------------------------\n",
            "Slicing Examples:\n",
            "String: First 6 characters: Python\n",
            "List: Elements from index 2 to 5: [30, 40, 50, 60]\n",
            "Tuple: Elements from index 1 onwards: ('hello', 3.14, False)\n",
            "String: Every second character: Pto rgamn\n",
            "List: Reverse the list: [70, 60, 50, 40, 30, 20, 10]\n",
            "------------------------------\n",
            "--- Input/Output (I/O) ---\n",
            "Input/Output demonstration is commented out to avoid blocking execution.\n",
            "------------------------------\n",
            "--- Exception Handling ---\n",
            "Result of division: 5.0\n",
            "Division attempt concluded.\n",
            "Error: Cannot divide by zero!\n",
            "Division attempt concluded.\n",
            "Error: Invalid input types for division!\n",
            "Division attempt concluded.\n",
            "------------------------------\n"
          ]
        }
      ]
    }
  ]
}