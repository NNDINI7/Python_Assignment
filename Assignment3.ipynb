{
  "nbformat": 4,
  "nbformat_minor": 0,
  "metadata": {
    "colab": {
      "provenance": []
    },
    "kernelspec": {
      "name": "python3",
      "display_name": "Python 3"
    },
    "language_info": {
      "name": "python"
    }
  },
  "cells": [
    {
      "cell_type": "code",
      "execution_count": null,
      "metadata": {
        "id": "1hBG3IJAmuDr"
      },
      "outputs": [],
      "source": []
    },
    {
      "cell_type": "markdown",
      "metadata": {
        "id": "cd6c8d17"
      },
      "source": [
        "Let's start with **Conditionals**. Conditionals allow your program to make decisions based on whether certain conditions are true or false. The most common conditional statements are `if`, `elif` (else if), and `else`."
      ]
    },
    {
      "cell_type": "code",
      "metadata": {
        "colab": {
          "base_uri": "https://localhost:8080/"
        },
        "id": "91bcbcfc",
        "outputId": "c77b7901-3598-4477-b467-b8fdd56a03af"
      },
      "source": [
        "# Example of conditional statements\n",
        "x = 10\n",
        "\n",
        "if x > 15:\n",
        "    print(\"x is greater than 15\")\n",
        "elif x > 5:\n",
        "    print(\"x is greater than 5 but not greater than 15\")\n",
        "else:\n",
        "    print(\"x is 5 or less\")"
      ],
      "execution_count": 1,
      "outputs": [
        {
          "output_type": "stream",
          "name": "stdout",
          "text": [
            "x is greater than 5 but not greater than 15\n"
          ]
        }
      ]
    },
    {
      "cell_type": "markdown",
      "metadata": {
        "id": "86ad17b1"
      },
      "source": [
        "Next, we have **Loops**. Loops are used to repeatedly execute a block of code. The most common types are `for` loops (for iterating over sequences) and `while` loops (for repeating as long as a condition is true)."
      ]
    },
    {
      "cell_type": "code",
      "metadata": {
        "colab": {
          "base_uri": "https://localhost:8080/"
        },
        "id": "8f99fbe0",
        "outputId": "4b756455-af45-4143-90b0-b92557cadab8"
      },
      "source": [
        "# Example of a for loop\n",
        "fruits = [\"apple\", \"banana\", \"cherry\"]\n",
        "for fruit in fruits:\n",
        "    print(fruit)\n",
        "\n",
        "# Example of a while loop\n",
        "count = 0\n",
        "while count < 5:\n",
        "    print(count)\n",
        "    count += 1"
      ],
      "execution_count": 2,
      "outputs": [
        {
          "output_type": "stream",
          "name": "stdout",
          "text": [
            "apple\n",
            "banana\n",
            "cherry\n",
            "0\n",
            "1\n",
            "2\n",
            "3\n",
            "4\n"
          ]
        }
      ]
    },
    {
      "cell_type": "markdown",
      "metadata": {
        "id": "7347ee08"
      },
      "source": [
        "**Comprehensions** provide a concise way to create lists, dictionaries, or sets. List comprehensions are the most common. They offer a more readable and often faster way to create lists than traditional loops."
      ]
    },
    {
      "cell_type": "code",
      "metadata": {
        "colab": {
          "base_uri": "https://localhost:8080/"
        },
        "id": "09397b97",
        "outputId": "41d25d1d-3b19-4265-b46b-761f34ef2ea0"
      },
      "source": [
        "# Example of a list comprehension\n",
        "squares = [x**2 for x in range(10)]\n",
        "print(squares)"
      ],
      "execution_count": 3,
      "outputs": [
        {
          "output_type": "stream",
          "name": "stdout",
          "text": [
            "[0, 1, 4, 9, 16, 25, 36, 49, 64, 81]\n"
          ]
        }
      ]
    },
    {
      "cell_type": "markdown",
      "metadata": {
        "id": "7427aa5c"
      },
      "source": [
        "**Writing and Using Functions** is essential for organizing code, making it reusable, and improving readability. Functions are defined using the `def` keyword."
      ]
    },
    {
      "cell_type": "code",
      "metadata": {
        "colab": {
          "base_uri": "https://localhost:8080/"
        },
        "id": "dec555d4",
        "outputId": "cb0dd7b7-e3d3-413e-f4db-37a9fefd871b"
      },
      "source": [
        "# Example of writing and using a function\n",
        "def greet(name):\n",
        "    return f\"Hello, {name}!\"\n",
        "\n",
        "message = greet(\"Alice\")\n",
        "print(message)"
      ],
      "execution_count": 4,
      "outputs": [
        {
          "output_type": "stream",
          "name": "stdout",
          "text": [
            "Hello, Alice!\n"
          ]
        }
      ]
    },
    {
      "cell_type": "markdown",
      "metadata": {
        "id": "c37c78fd"
      },
      "source": [
        "Now let's look at some **Core Python Libraries**. We'll briefly demonstrate `os` (for interacting with the operating system), `datetime` (for working with dates and times), and `random` (for generating random numbers)."
      ]
    },
    {
      "cell_type": "code",
      "metadata": {
        "colab": {
          "base_uri": "https://localhost:8080/"
        },
        "id": "b00b4d7d",
        "outputId": "983f4c9b-caba-4c40-800c-d0be0ce8584e"
      },
      "source": [
        "import os\n",
        "import datetime\n",
        "import random\n",
        "\n",
        "# Using the os library (example: getting the current working directory)\n",
        "current_directory = os.getcwd()\n",
        "print(f\"Current directory: {current_directory}\")\n",
        "\n",
        "# Using the datetime library (example: getting the current date and time)\n",
        "current_time = datetime.datetime.now()\n",
        "print(f\"Current time: {current_time}\")\n",
        "\n",
        "# Using the random library (example: generating a random integer)\n",
        "random_number = random.randint(1, 100)\n",
        "print(f\"Random number: {random_number}\")"
      ],
      "execution_count": 5,
      "outputs": [
        {
          "output_type": "stream",
          "name": "stdout",
          "text": [
            "Current directory: /content\n",
            "Current time: 2025-07-02 10:08:45.344798\n",
            "Random number: 2\n"
          ]
        }
      ]
    },
    {
      "cell_type": "markdown",
      "metadata": {
        "id": "486e469d"
      },
      "source": [
        "Finally, we'll demonstrate **Web API Consumption** using the `requests` library. This library allows you to send HTTP requests to web servers to retrieve data."
      ]
    },
    {
      "cell_type": "code",
      "metadata": {
        "colab": {
          "base_uri": "https://localhost:8080/"
        },
        "id": "9fcccf99",
        "outputId": "4212a8d9-5a0e-4055-bfa4-89672c74170d"
      },
      "source": [
        "# You might need to install the requests library if you haven't already:\n",
        "# !pip install requests\n",
        "\n",
        "import requests\n",
        "\n",
        "# Example of consuming a simple public API (e.g., JSONPlaceholder)\n",
        "try:\n",
        "    response = requests.get(\"https://jsonplaceholder.typicode.com/posts/1\")\n",
        "    response.raise_for_status() # Raise an exception for bad status codes (4xx or 5xx)\n",
        "    data = response.json()\n",
        "    print(\"API Response (first post):\")\n",
        "    print(data)\n",
        "except requests.exceptions.RequestException as e:\n",
        "    print(f\"Error fetching data from API: {e}\")"
      ],
      "execution_count": 6,
      "outputs": [
        {
          "output_type": "stream",
          "name": "stdout",
          "text": [
            "API Response (first post):\n",
            "{'userId': 1, 'id': 1, 'title': 'sunt aut facere repellat provident occaecati excepturi optio reprehenderit', 'body': 'quia et suscipit\\nsuscipit recusandae consequuntur expedita et cum\\nreprehenderit molestiae ut ut quas totam\\nnostrum rerum est autem sunt rem eveniet architecto'}\n"
          ]
        }
      ]
    }
  ]
}